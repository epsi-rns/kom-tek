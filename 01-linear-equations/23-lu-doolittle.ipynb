{
 "cells": [
  {
   "cell_type": "code",
   "execution_count": 13,
   "id": "2dfa52a0-6ce2-4dc0-a744-bd0fedc54096",
   "metadata": {},
   "outputs": [
    {
     "name": "stdout",
     "output_type": "stream",
     "text": [
      "L:\n",
      " [[ 1.   0.   0. ]\n",
      " [-1.5  1.   0. ]\n",
      " [-1.   4.   1. ]]\n",
      "U:\n",
      " [[ 2.   1.  -1. ]\n",
      " [ 0.   0.5  0.5]\n",
      " [ 0.   0.  -1. ]]\n",
      "A - L*U:\n",
      " [[0. 0. 0.]\n",
      " [0. 0. 0.]\n",
      " [0. 0. 0.]]\n"
     ]
    }
   ],
   "source": [
    "import numpy as np\n",
    "\n",
    "def doolittle(A):\n",
    "    \"\"\"\n",
    "    Vanilla Doolittle LU decomposition without pivoting.\n",
    "    For educational use. Not numerically robust.\n",
    "    \"\"\"\n",
    "    n = len(A)\n",
    "    L = np.eye(n)\n",
    "    U = np.zeros((n, n))\n",
    "    \n",
    "    for k in range(n):\n",
    "        # Calculate k-th row of U\n",
    "        for j in range(k, n):\n",
    "            U[k, j] = A[k, j] - np.sum(L[k, :k] * U[:k, j])\n",
    "        # Calculate k-th column of L\n",
    "        for i in range(k+1, n):\n",
    "            L[i, k] = (A[i, k] - np.sum(L[i, :k] * U[:k, k])) / U[k, k]\n",
    "    return L, U\n",
    "\n",
    "A = np.array([\n",
    "    [2.0, 1.0, -1.0],\n",
    "    [-3.0, -1.0, 2.0],\n",
    "    [-2.0, 1.0, 2.0]\n",
    "], dtype=float)\n",
    "\n",
    "L, U = doolittle(A)\n",
    "\n",
    "print(\"L:\\n\", L)\n",
    "print(\"U:\\n\", U)\n",
    "print(\"A - L*U:\\n\", A - L @ U) # Should be near zero\n"
   ]
  }
 ],
 "metadata": {
  "kernelspec": {
   "display_name": "Python 3 (ipykernel)",
   "language": "python",
   "name": "python3"
  },
  "language_info": {
   "codemirror_mode": {
    "name": "ipython",
    "version": 3
   },
   "file_extension": ".py",
   "mimetype": "text/x-python",
   "name": "python",
   "nbconvert_exporter": "python",
   "pygments_lexer": "ipython3",
   "version": "3.13.7"
  }
 },
 "nbformat": 4,
 "nbformat_minor": 5
}
