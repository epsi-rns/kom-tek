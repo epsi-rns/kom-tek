{
 "cells": [
  {
   "cell_type": "code",
   "execution_count": 12,
   "id": "2dfa52a0-6ce2-4dc0-a744-bd0fedc54096",
   "metadata": {},
   "outputs": [
    {
     "name": "stdout",
     "output_type": "stream",
     "text": [
      "Original matrix A:\n",
      "[[ 2.  1. -1.]\n",
      " [-3. -1.  2.]\n",
      " [-2.  1.  2.]]\n",
      "\n",
      "Result from SciPy's lu() function (with Pivoting):\n",
      "P (Permutation matrix - records row swaps):\n",
      "[[0. 0. 1.]\n",
      " [1. 0. 0.]\n",
      " [0. 1. 0.]]\n",
      "L (Lower triangular):\n",
      "[[ 1.          0.          0.        ]\n",
      " [ 0.66666667  1.          0.        ]\n",
      " [-0.66666667  0.2         1.        ]]\n",
      "U (Upper triangular):\n",
      "[[-3.         -1.          2.        ]\n",
      " [ 0.          1.66666667  0.66666667]\n",
      " [ 0.          0.          0.2       ]]\n",
      "\n",
      "Verification: P * A should equal L * U\n",
      "P * A =\n",
      "[[-2.  1.  2.]\n",
      " [ 2.  1. -1.]\n",
      " [-3. -1.  2.]]\n",
      "L * U =\n",
      "[[-3. -1.  2.]\n",
      " [-2.  1.  2.]\n",
      " [ 2.  1. -1.]]\n"
     ]
    }
   ],
   "source": [
    "import numpy as np\n",
    "from scipy.linalg import lu\n",
    "\n",
    "# Define your matrix\n",
    "A = np.array([\n",
    "    [2.0, 1.0, -1.0],\n",
    "    [-3.0, -1.0, 2.0],\n",
    "    [-2.0, 1.0, 2.0]\n",
    "])\n",
    "\n",
    "print(\"Original matrix A:\")\n",
    "print(A)\n",
    "\n",
    "# Perform LU decomposition with partial pivoting\n",
    "# This is the professional, industry-standard method\n",
    "P, L, U = lu(A)\n",
    "\n",
    "print(\"\\nResult from SciPy's lu() function (with Pivoting):\")\n",
    "print(\"P (Permutation matrix - records row swaps):\")\n",
    "print(P)\n",
    "print(\"L (Lower triangular):\")\n",
    "print(L)\n",
    "print(\"U (Upper triangular):\")\n",
    "print(U)\n",
    "\n",
    "# Verify the decomposition: P * A = L * U\n",
    "print(\"\\nVerification: P * A should equal L * U\")\n",
    "print(\"P * A =\")\n",
    "print(P @ A) # Matrix multiplication\n",
    "print(\"L * U =\")\n",
    "print(L @ U)\n"
   ]
  }
 ],
 "metadata": {
  "kernelspec": {
   "display_name": "Python 3 (ipykernel)",
   "language": "python",
   "name": "python3"
  },
  "language_info": {
   "codemirror_mode": {
    "name": "ipython",
    "version": 3
   },
   "file_extension": ".py",
   "mimetype": "text/x-python",
   "name": "python",
   "nbconvert_exporter": "python",
   "pygments_lexer": "ipython3",
   "version": "3.13.7"
  }
 },
 "nbformat": 4,
 "nbformat_minor": 5
}
