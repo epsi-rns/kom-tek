{
 "cells": [
  {
   "cell_type": "code",
   "execution_count": 10,
   "id": "2dfa52a0-6ce2-4dc0-a744-bd0fedc54096",
   "metadata": {},
   "outputs": [
    {
     "name": "stdout",
     "output_type": "stream",
     "text": [
      "Using built-in Toeplitz matrix:\n",
      "A =\n",
      " [[ 1 -1 -3]\n",
      " [-2  1 -1]\n",
      " [ 3 -2  1]]\n",
      "b = [-7 -1 -3]\n",
      "x_known = [4 8 1]\n"
     ]
    }
   ],
   "source": [
    "import numpy as np\n",
    "from scipy.linalg import toeplitz, circulant\n",
    "\n",
    "def generate_linear_system_builtin(n, matrix_type='toeplitz', value_range=(-10, 10)):\n",
    "    \"\"\"\n",
    "    Generates a linear system using built-in test matrix generators.\n",
    "    \"\"\"\n",
    "    min_val, max_val = value_range\n",
    "    x_known = np.random.randint(min_val, max_val + 1, size=n)\n",
    "    \n",
    "    if matrix_type == 'toeplitz':\n",
    "        # Toeplitz matrices are often well-conditioned\n",
    "        c = np.random.randint(-5, 6, size=n)\n",
    "        r = np.random.randint(-5, 6, size=n)\n",
    "        r[0] = c[0]  # First element must be the same\n",
    "        A = toeplitz(c, r)\n",
    "        \n",
    "    elif matrix_type == 'circulant':\n",
    "        # Circulant matrices have known properties\n",
    "        c = np.random.randint(-5, 6, size=n)\n",
    "        A = circulant(c)\n",
    "        \n",
    "    elif matrix_type == 'random_orthogonal':\n",
    "        # Generate a random orthogonal matrix (perfect condition number = 1)\n",
    "        A, _ = linalg.qr(np.random.randn(n, n))\n",
    "        \n",
    "    else:\n",
    "        raise ValueError(\"Unknown matrix type\")\n",
    "    \n",
    "    # Make sure we have an invertible matrix\n",
    "    if np.linalg.det(A) == 0:\n",
    "        # Add a small identity matrix to ensure invertibility\n",
    "        A = A + 0.1 * np.eye(n)\n",
    "    \n",
    "    b = A @ x_known\n",
    "    return A, b, x_known\n",
    "\n",
    "# Example using built-in matrices\n",
    "print(\"Using built-in Toeplitz matrix:\")\n",
    "A_toep, b_toep, x_known_toep = generate_linear_system_builtin(3, 'toeplitz')\n",
    "print(\"A =\\n\", A_toep)\n",
    "print(\"b =\", b_toep)\n",
    "print(\"x_known =\", x_known_toep)\n"
   ]
  }
 ],
 "metadata": {
  "kernelspec": {
   "display_name": "Python 3 (ipykernel)",
   "language": "python",
   "name": "python3"
  },
  "language_info": {
   "codemirror_mode": {
    "name": "ipython",
    "version": 3
   },
   "file_extension": ".py",
   "mimetype": "text/x-python",
   "name": "python",
   "nbconvert_exporter": "python",
   "pygments_lexer": "ipython3",
   "version": "3.13.7"
  }
 },
 "nbformat": 4,
 "nbformat_minor": 5
}
